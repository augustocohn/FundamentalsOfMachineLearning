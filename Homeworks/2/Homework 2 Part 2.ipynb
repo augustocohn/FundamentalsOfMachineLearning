{
 "cells": [
  {
   "cell_type": "markdown",
   "metadata": {},
   "source": [
    "# Homework 2 Part 2\n",
    "\n",
    "**Due: Tuesday, February 15 @ 11:59 pm**\n",
    "\n",
    "This is an individual assignment."
   ]
  },
  {
   "cell_type": "code",
   "execution_count": 10,
   "metadata": {},
   "outputs": [],
   "source": [
    "# Import libraries and magics\n",
    "import numpy as np\n",
    "import matplotlib.pyplot as plt\n",
    "from sklearn.metrics import confusion_matrix, ConfusionMatrixDisplay\n",
    "import scipy.stats as stats"
   ]
  },
  {
   "cell_type": "markdown",
   "metadata": {},
   "source": [
    "## Crab Dataset Description\n",
    "\n",
    "The Crab Data Set has 200 samples and 7 features (Frontal Lip, Rear Width, Length, Width, Depth, Male and Female), describing 5 morphological measurements on 50 crabs each of two color forms and both sexes, of the species *Leptograpsus* variegatus collected at Fremantle, W. Australia.\n",
    "\n",
    "* Dataset Source: Campbell, N.A. and Mahon, R.J. (1974) A multivariate study of variation in two species of rock crab of genus *Leptograpsus*. *Australian Journal of Zoology* 22, 417–425.\n",
    "\n",
    "The data set is saved in the file \"crab.txt\": the firt column corresponds to the class label (crab species) and the other 7 columns correspond to the features.\n",
    "\n",
    "**Use the first 140 samples as your training set and the last 60 samples as your test set.**\n",
    "\n",
    "## Problem Set\n",
    "\n",
    "Answer the following questions:\n",
    "\n",
    "1. Implement the Naive Bayes classifier, under the assumption that your data likelihood model $p(x|C_j)$ is a multivariate Gaussian and the prior probabilities $p(C_j)$ are dictated by the number of samples $n_j\\in\\mathbb{R}$ that you have for each class. Build your own code to implement the classifier.\n",
    "\n",
    "2. Did you encounter any problems when implementing the probabilistic generative model? What is your solution for the problem? Explain why your solution works. (Note: There is more than one solution.)\n",
    "\n",
    "3. Report your classification results in terms of a confusion matrix in both training and test set. (You can use the function ```confusion_matrix``` from the module ```sklearn.metrics```.)"
   ]
  },
  {
   "cell_type": "code",
   "execution_count": 11,
   "metadata": {},
   "outputs": [
    {
     "data": {
      "text/html": [
       "<div>\n",
       "<style scoped>\n",
       "    .dataframe tbody tr th:only-of-type {\n",
       "        vertical-align: middle;\n",
       "    }\n",
       "\n",
       "    .dataframe tbody tr th {\n",
       "        vertical-align: top;\n",
       "    }\n",
       "\n",
       "    .dataframe thead th {\n",
       "        text-align: right;\n",
       "    }\n",
       "</style>\n",
       "<table border=\"1\" class=\"dataframe\">\n",
       "  <thead>\n",
       "    <tr style=\"text-align: right;\">\n",
       "      <th></th>\n",
       "      <th>Species</th>\n",
       "      <th>FrontalLip</th>\n",
       "      <th>RearWidth</th>\n",
       "      <th>Length</th>\n",
       "      <th>Width</th>\n",
       "      <th>Depth</th>\n",
       "      <th>Male</th>\n",
       "      <th>Female</th>\n",
       "    </tr>\n",
       "  </thead>\n",
       "  <tbody>\n",
       "    <tr>\n",
       "      <th>0</th>\n",
       "      <td>0</td>\n",
       "      <td>20.6</td>\n",
       "      <td>14.4</td>\n",
       "      <td>42.8</td>\n",
       "      <td>46.5</td>\n",
       "      <td>19.6</td>\n",
       "      <td>1</td>\n",
       "      <td>0</td>\n",
       "    </tr>\n",
       "    <tr>\n",
       "      <th>1</th>\n",
       "      <td>1</td>\n",
       "      <td>13.3</td>\n",
       "      <td>11.1</td>\n",
       "      <td>27.8</td>\n",
       "      <td>32.3</td>\n",
       "      <td>11.3</td>\n",
       "      <td>1</td>\n",
       "      <td>0</td>\n",
       "    </tr>\n",
       "    <tr>\n",
       "      <th>2</th>\n",
       "      <td>0</td>\n",
       "      <td>16.7</td>\n",
       "      <td>14.3</td>\n",
       "      <td>32.3</td>\n",
       "      <td>37.0</td>\n",
       "      <td>14.7</td>\n",
       "      <td>0</td>\n",
       "      <td>1</td>\n",
       "    </tr>\n",
       "    <tr>\n",
       "      <th>3</th>\n",
       "      <td>1</td>\n",
       "      <td>9.8</td>\n",
       "      <td>8.9</td>\n",
       "      <td>20.4</td>\n",
       "      <td>23.9</td>\n",
       "      <td>8.8</td>\n",
       "      <td>0</td>\n",
       "      <td>1</td>\n",
       "    </tr>\n",
       "    <tr>\n",
       "      <th>4</th>\n",
       "      <td>0</td>\n",
       "      <td>15.6</td>\n",
       "      <td>14.1</td>\n",
       "      <td>31.0</td>\n",
       "      <td>34.5</td>\n",
       "      <td>13.8</td>\n",
       "      <td>0</td>\n",
       "      <td>1</td>\n",
       "    </tr>\n",
       "  </tbody>\n",
       "</table>\n",
       "</div>"
      ],
      "text/plain": [
       "   Species  FrontalLip  RearWidth  Length  Width  Depth  Male  Female\n",
       "0        0        20.6       14.4    42.8   46.5   19.6     1       0\n",
       "1        1        13.3       11.1    27.8   32.3   11.3     1       0\n",
       "2        0        16.7       14.3    32.3   37.0   14.7     0       1\n",
       "3        1         9.8        8.9    20.4   23.9    8.8     0       1\n",
       "4        0        15.6       14.1    31.0   34.5   13.8     0       1"
      ]
     },
     "execution_count": 11,
     "metadata": {},
     "output_type": "execute_result"
    }
   ],
   "source": [
    "import pandas as pd\n",
    "df = pd.read_csv(\"crab.txt\", delimiter=\"\\t\")\n",
    "\n",
    "df.head()"
   ]
  },
  {
   "cell_type": "code",
   "execution_count": 12,
   "metadata": {},
   "outputs": [],
   "source": [
    "data = df.to_numpy()\n",
    "target = data[:,0]\n",
    "features = data[:, 1:7]\n",
    "\n",
    "#Regularization\n",
    "f_min = features.min(axis=0, keepdims=True)\n",
    "f_max = features.max(axis=0, keepdims=True)\n",
    "features = (features - f_min)/(f_max - f_min)\n",
    "\n",
    "x_train, x_test, label_train, label_test = features[:140], features[140:], target[:140], target[140:]\n",
    "X_zero = x_train[label_train==0]\n",
    "X_one = x_train[label_train==1]"
   ]
  },
  {
   "cell_type": "code",
   "execution_count": 13,
   "metadata": {},
   "outputs": [],
   "source": [
    "#Training\n",
    "mu_zero = np.mean(X_zero, axis=0)\n",
    "mu_one = np.mean(X_one, axis=0)\n",
    "\n",
    "cov_zero = np.cov(X_zero.T)\n",
    "cov_one = np.cov(X_one.T)\n",
    "\n",
    "N = X_zero.shape[0] + X_one.shape[0]\n",
    "\n",
    "p_zero = X_zero.shape[0]/N\n",
    "p_one = X_one.shape[0]/N"
   ]
  },
  {
   "cell_type": "code",
   "execution_count": 14,
   "metadata": {},
   "outputs": [],
   "source": [
    "#Classifying training set\n",
    "i = 0\n",
    "y_pred_train = []\n",
    "for x in x_train:\n",
    "    G_zero = stats.multivariate_normal.pdf(x, mean=mu_zero, cov=cov_zero)\n",
    "    G_one = stats.multivariate_normal.pdf(x, mean=mu_one, cov=cov_one)\n",
    "    pos_zero = G_zero*p_zero / (G_one*p_one + G_zero*p_zero)\n",
    "    pos_one = G_one*p_one / (G_one*p_one + G_zero*p_zero)\n",
    "    \n",
    "    if pos_zero > pos_one: l = 0\n",
    "    else: l = 1\n",
    "\n",
    "    y_pred_train.append(l)\n",
    "    \n",
    "    i += 1"
   ]
  },
  {
   "cell_type": "code",
   "execution_count": 15,
   "metadata": {},
   "outputs": [],
   "source": [
    "#Classifying test set\n",
    "i = 0\n",
    "y_pred_test = []\n",
    "for x in x_test:\n",
    "    G_zero = stats.multivariate_normal.pdf(x, mean=mu_zero, cov=cov_zero)\n",
    "    G_one = stats.multivariate_normal.pdf(x, mean=mu_one, cov=cov_one)\n",
    "    pos_zero = G_zero*p_zero / (G_one*p_one + G_zero*p_zero)\n",
    "    pos_one = G_one*p_one / (G_one*p_one + G_zero*p_zero)\n",
    "    \n",
    "    if pos_zero > pos_one: l = 0\n",
    "    else: l = 1\n",
    "    \n",
    "    y_pred_test.append(l)\n",
    "    \n",
    "    i += 1"
   ]
  },
  {
   "cell_type": "code",
   "execution_count": 20,
   "metadata": {},
   "outputs": [
    {
     "name": "stdout",
     "output_type": "stream",
     "text": [
      "Confusion Matrix for training set:\n"
     ]
    },
    {
     "data": {
      "image/png": "[encoded data removed]",
      "text/plain": [
       "<Figure size 432x288 with 2 Axes>"
      ]
     },
     "metadata": {
      "needs_background": "light"
     },
     "output_type": "display_data"
    }
   ],
   "source": [
    "cm_train = confusion_matrix(label_train, y_pred_train)\n",
    "print('Confusion Matrix for training set:')\n",
    "ConfusionMatrixDisplay(confusion_matrix=cm_train).plot();"
   ]
  },
  {
   "cell_type": "code",
   "execution_count": 22,
   "metadata": {},
   "outputs": [
    {
     "name": "stdout",
     "output_type": "stream",
     "text": [
      "Confusion Matrix for test set:\n"
     ]
    },
    {
     "data": {
      "image/png": "[encoded data removed]",
      "text/plain": [
       "<Figure size 432x288 with 2 Axes>"
      ]
     },
     "metadata": {
      "needs_background": "light"
     },
     "output_type": "display_data"
    }
   ],
   "source": [
    "cm_test = confusion_matrix(label_test, y_pred_test)\n",
    "print('Confusion Matrix for test set:')\n",
    "ConfusionMatrixDisplay(confusion_matrix=cm_test).plot();"
   ]
  },
  {
   "cell_type": "markdown",
   "metadata": {},
   "source": [
    "PROBLEMS:\n",
    "- Singular matrix when running multivariate normal\n",
    "- Unable to broadcast input array multivariate normal\n",
    "- Unable to broadcast during posterior calculation (uneven number of samples)\n",
    "\n",
    "I ran into a couple problems when trying to complete this assignment. The first one was when calling multivariate normal, I was getting an error that my covariance matrix was singular. This was caused by columns in the data being collinear, specifically the male and female category. To alleviate this issue, I disreguarded the female category as 0 in the male category was enough to specify the gender of the crab. Another issue that I ran into was just a misunderstanding of how to use multivariate normal. Originally, I was passing all data labelled as species 0 then all data labelled as species 1 into multivariate normal and wasn't able to compute the posterior as there are different number of samples. That was just a misunderstanding of the process of developing the model. When I realized the training of the model is simply finding the mean, covariance matrix and the prior probabilities, I was able to properly categorize the data. Each data point is passed into the multivariate normal function, the posterior is computed, compared then compared to the expected label.\n",
    "\n",
    "The results are reported using a confusion matrix. Since there are 2 classes, the confusion matrix is 2x2. It is interpreted as each column and row represents a class. The columns represent the predictions and the rows represent the actual values. Since the matrices only contain non-zero values on the main diagonals, the model accurately predicted the species of crab for each of the samples given. "
   ]
  },
  {
   "cell_type": "markdown",
   "metadata": {},
   "source": [
    "# Submit Your Solution\n",
    "\n",
    "Confirm that you've successfully completed the assignment.\n",
    "\n",
    "Along with the Notebook, include a PDF of the notebook with your solutions.\n",
    "\n",
    "```add``` and ```commit``` the final version of your work, and ```push``` your code to your GitHub repository.\n",
    "\n",
    "Submit the URL of your GitHub Repository as your assignment submission on Canvas."
   ]
  }
 ],
 "metadata": {
  "kernelspec": {
   "display_name": "Python 3 (ipykernel)",
   "language": "python",
   "name": "python3"
  },
  "language_info": {
   "codemirror_mode": {
    "name": "ipython",
    "version": 3
   },
   "file_extension": ".py",
   "mimetype": "text/x-python",
   "name": "python",
   "nbconvert_exporter": "python",
   "pygments_lexer": "ipython3",
   "version": "3.9.7"
  },
  "latex_envs": {
   "LaTeX_envs_menu_present": true,
   "autoclose": true,
   "autocomplete": true,
   "bibliofile": "biblio.bib",
   "cite_by": "apalike",
   "current_citInitial": 1,
   "eqLabelWithNumbers": true,
   "eqNumInitial": 1,
   "hotkeys": {
    "equation": "Ctrl-E",
    "itemize": "Ctrl-I"
   },
   "labels_anchors": false,
   "latex_user_defs": false,
   "report_style_numbering": false,
   "user_envs_cfg": false
  },
  "varInspector": {
   "cols": {
    "lenName": 16,
    "lenType": 16,
    "lenVar": 40
   },
   "kernels_config": {
    "python": {
     "delete_cmd_postfix": "",
     "delete_cmd_prefix": "del ",
     "library": "var_list.py",
     "varRefreshCmd": "print(var_dic_list())"
    },
    "r": {
     "delete_cmd_postfix": ") ",
     "delete_cmd_prefix": "rm(",
     "library": "var_list.r",
     "varRefreshCmd": "cat(var_dic_list()) "
    }
   },
   "types_to_exclude": [
    "module",
    "function",
    "builtin_function_or_method",
    "instance",
    "_Feature"
   ],
   "window_display": false
  }
 },
 "nbformat": 4,
 "nbformat_minor": 2
}
